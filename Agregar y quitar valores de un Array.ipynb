{
 "cells": [
  {
   "cell_type": "code",
   "execution_count": 1,
   "id": "6e8a518d",
   "metadata": {},
   "outputs": [
    {
     "data": {
      "text/plain": [
       "array([ 0,  2,  4,  6,  8, 10, 12, 14, 16, 18])"
      ]
     },
     "execution_count": 1,
     "metadata": {},
     "output_type": "execute_result"
    }
   ],
   "source": [
    "#DHZ 1951\n",
    "import numpy as np \n",
    "\n",
    "arr = np.arange(0,20,2)\n",
    "arr"
   ]
  },
  {
   "cell_type": "code",
   "execution_count": 2,
   "id": "39b9fb3c",
   "metadata": {},
   "outputs": [
    {
     "data": {
      "text/plain": [
       "array([[0.01998537, 0.76849893, 0.59725165],\n",
       "       [0.30297299, 0.98096206, 0.83721211],\n",
       "       [0.72751508, 0.19649636, 0.47540177],\n",
       "       [0.19272725, 0.32609529, 0.67693055]])"
      ]
     },
     "execution_count": 2,
     "metadata": {},
     "output_type": "execute_result"
    }
   ],
   "source": [
    "#DHZ 1951\n",
    "arr_flot = np.random.rand(4,3)\n",
    "arr_flot"
   ]
  },
  {
   "cell_type": "code",
   "execution_count": 6,
   "id": "195df0f0",
   "metadata": {},
   "outputs": [
    {
     "data": {
      "text/plain": [
       "array([[4, 4, 0],\n",
       "       [5, 3, 4]])"
      ]
     },
     "execution_count": 6,
     "metadata": {},
     "output_type": "execute_result"
    }
   ],
   "source": [
    "#DHZ 1951\n",
    "\n",
    "arr_ent = np.random.randint(10, size=(2,3))\n",
    "arr_ent"
   ]
  },
  {
   "cell_type": "code",
   "execution_count": 7,
   "id": "5502e7b4",
   "metadata": {},
   "outputs": [
    {
     "data": {
      "text/plain": [
       "array([[6, 6, 6],\n",
       "       [6, 6, 6],\n",
       "       [6, 6, 6]])"
      ]
     },
     "execution_count": 7,
     "metadata": {},
     "output_type": "execute_result"
    }
   ],
   "source": [
    "#DHZ 1951\n",
    "arr_6 = np.full((3,3),6)\n",
    "arr_6"
   ]
  },
  {
   "cell_type": "code",
   "execution_count": 8,
   "id": "075d104f",
   "metadata": {},
   "outputs": [
    {
     "data": {
      "text/plain": [
       "array([ 0,  2,  4,  6,  8, 10, 12, 14, 16, 18, 12, 13, 14, 51])"
      ]
     },
     "execution_count": 8,
     "metadata": {},
     "output_type": "execute_result"
    }
   ],
   "source": [
    "#DHZ 1951\n",
    "np.append(arr, [12, 13, 14, 51])"
   ]
  },
  {
   "cell_type": "code",
   "execution_count": 9,
   "id": "d83d0373",
   "metadata": {},
   "outputs": [
    {
     "data": {
      "text/plain": [
       "array([ 0,  2, 42, 34,  4,  6,  8, 10, 12, 14, 16, 18])"
      ]
     },
     "execution_count": 9,
     "metadata": {},
     "output_type": "execute_result"
    }
   ],
   "source": [
    "#DHZ 1951\n",
    "np.insert(arr,2, [42,34])"
   ]
  },
  {
   "cell_type": "code",
   "execution_count": 10,
   "id": "0fb48194",
   "metadata": {},
   "outputs": [
    {
     "data": {
      "text/plain": [
       "array([[4, 4, 0]])"
      ]
     },
     "execution_count": 10,
     "metadata": {},
     "output_type": "execute_result"
    }
   ],
   "source": [
    "#DHZ 1951\n",
    "np.delete(arr_ent,1,axis=0)"
   ]
  },
  {
   "cell_type": "code",
   "execution_count": null,
   "id": "e3bf263f",
   "metadata": {},
   "outputs": [],
   "source": []
  }
 ],
 "metadata": {
  "kernelspec": {
   "display_name": "Python 3",
   "language": "python",
   "name": "python3"
  },
  "language_info": {
   "codemirror_mode": {
    "name": "ipython",
    "version": 3
   },
   "file_extension": ".py",
   "mimetype": "text/x-python",
   "name": "python",
   "nbconvert_exporter": "python",
   "pygments_lexer": "ipython3",
   "version": "3.8.8"
  }
 },
 "nbformat": 4,
 "nbformat_minor": 5
}
