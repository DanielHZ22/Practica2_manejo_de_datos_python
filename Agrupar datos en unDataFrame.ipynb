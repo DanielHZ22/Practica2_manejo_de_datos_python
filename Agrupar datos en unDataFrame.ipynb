{
 "cells": [
  {
   "cell_type": "code",
   "execution_count": 1,
   "id": "a4328c81",
   "metadata": {},
   "outputs": [],
   "source": [
    "#DHZ 1951\n",
    "import numpy as np\n",
    "import pandas as pd"
   ]
  },
  {
   "cell_type": "code",
   "execution_count": 5,
   "id": "d5fc24ee",
   "metadata": {},
   "outputs": [
    {
     "data": {
      "text/html": [
       "<div>\n",
       "<style scoped>\n",
       "    .dataframe tbody tr th:only-of-type {\n",
       "        vertical-align: middle;\n",
       "    }\n",
       "\n",
       "    .dataframe tbody tr th {\n",
       "        vertical-align: top;\n",
       "    }\n",
       "\n",
       "    .dataframe thead th {\n",
       "        text-align: right;\n",
       "    }\n",
       "</style>\n",
       "<table border=\"1\" class=\"dataframe\">\n",
       "  <thead>\n",
       "    <tr style=\"text-align: right;\">\n",
       "      <th></th>\n",
       "      <th>fecha</th>\n",
       "      <th>duracion</th>\n",
       "      <th>item</th>\n",
       "      <th>mes</th>\n",
       "      <th>red</th>\n",
       "      <th>tipo_red</th>\n",
       "    </tr>\n",
       "    <tr>\n",
       "      <th>indice</th>\n",
       "      <th></th>\n",
       "      <th></th>\n",
       "      <th></th>\n",
       "      <th></th>\n",
       "      <th></th>\n",
       "      <th></th>\n",
       "    </tr>\n",
       "  </thead>\n",
       "  <tbody>\n",
       "    <tr>\n",
       "      <th>0</th>\n",
       "      <td>2014-10-15 06:58:00</td>\n",
       "      <td>34.429</td>\n",
       "      <td>data</td>\n",
       "      <td>2014-11</td>\n",
       "      <td>data</td>\n",
       "      <td>data</td>\n",
       "    </tr>\n",
       "    <tr>\n",
       "      <th>1</th>\n",
       "      <td>2014-10-15 06:58:00</td>\n",
       "      <td>13.000</td>\n",
       "      <td>call</td>\n",
       "      <td>2014-11</td>\n",
       "      <td>Vodafone</td>\n",
       "      <td>mobile</td>\n",
       "    </tr>\n",
       "    <tr>\n",
       "      <th>2</th>\n",
       "      <td>2014-10-15 14:46:00</td>\n",
       "      <td>23.000</td>\n",
       "      <td>call</td>\n",
       "      <td>2014-11</td>\n",
       "      <td>Meteor</td>\n",
       "      <td>mobile</td>\n",
       "    </tr>\n",
       "    <tr>\n",
       "      <th>3</th>\n",
       "      <td>2014-10-15 14:48:00</td>\n",
       "      <td>4.000</td>\n",
       "      <td>call</td>\n",
       "      <td>2014-11</td>\n",
       "      <td>Tesco</td>\n",
       "      <td>mobile</td>\n",
       "    </tr>\n",
       "    <tr>\n",
       "      <th>4</th>\n",
       "      <td>2014-10-15 17:27:00</td>\n",
       "      <td>4.000</td>\n",
       "      <td>call</td>\n",
       "      <td>2014-11</td>\n",
       "      <td>Tesco</td>\n",
       "      <td>mobile</td>\n",
       "    </tr>\n",
       "  </tbody>\n",
       "</table>\n",
       "</div>"
      ],
      "text/plain": [
       "                     fecha  duracion  item      mes       red tipo_red\n",
       "indice                                                                \n",
       "0      2014-10-15 06:58:00    34.429  data  2014-11      data     data\n",
       "1      2014-10-15 06:58:00    13.000  call  2014-11  Vodafone   mobile\n",
       "2      2014-10-15 14:46:00    23.000  call  2014-11    Meteor   mobile\n",
       "3      2014-10-15 14:48:00     4.000  call  2014-11     Tesco   mobile\n",
       "4      2014-10-15 17:27:00     4.000  call  2014-11     Tesco   mobile"
      ]
     },
     "execution_count": 5,
     "metadata": {},
     "output_type": "execute_result"
    }
   ],
   "source": [
    "#DHZ 1951\n",
    "data = pd.read_csv(r\"C:\\Users\\regis\\Documents\\Practica 2 Ebner\\031 data_celular.csv\", \n",
    "                  header=0,\n",
    "                  index_col=0,\n",
    "                  names=[\"indice\", \"fecha\", \"duracion\", \"item\", \"mes\",\"red\", \"tipo_red\"],\n",
    "                  parse_dates=[\"fecha\"])\n",
    "data.head()"
   ]
  },
  {
   "cell_type": "code",
   "execution_count": 6,
   "id": "3cdb1134",
   "metadata": {},
   "outputs": [
    {
     "name": "stdout",
     "output_type": "stream",
     "text": [
      "Numero de filas del dataframe\n",
      "830\n"
     ]
    }
   ],
   "source": [
    "#DHZ 1951\n",
    "print(\"Numero de filas del dataframe\")\n",
    "print(data[\"item\"].count())"
   ]
  },
  {
   "cell_type": "code",
   "execution_count": 7,
   "id": "3b78f683",
   "metadata": {},
   "outputs": [
    {
     "name": "stdout",
     "output_type": "stream",
     "text": [
      "Tiempo total registrado(segundos) en llamadas es:  \n",
      "92321.0\n"
     ]
    }
   ],
   "source": [
    "#DHZ 1951\n",
    "print(\"Tiempo total registrado(segundos) en llamadas es:  \")\n",
    "print(data[\"duracion\"][data[\"item\"] == \"call\"].sum())"
   ]
  },
  {
   "cell_type": "code",
   "execution_count": 8,
   "id": "dbc53eb7",
   "metadata": {},
   "outputs": [
    {
     "name": "stdout",
     "output_type": "stream",
     "text": [
      "Numero de redes telefonicas contactadas en el periodo de 2014/11 al 2015/03:  \n",
      "9\n"
     ]
    }
   ],
   "source": [
    "#DHZ 1951\n",
    "print(\"Numero de redes telefonicas contactadas en el periodo de 2014/11 al 2015/03:  \")\n",
    "print(data[\"red\"].nunique())"
   ]
  },
  {
   "cell_type": "code",
   "execution_count": 9,
   "id": "38a84011",
   "metadata": {},
   "outputs": [
    {
     "data": {
      "text/plain": [
       "<pandas.core.groupby.generic.DataFrameGroupBy object at 0x0000019DD74651C0>"
      ]
     },
     "execution_count": 9,
     "metadata": {},
     "output_type": "execute_result"
    }
   ],
   "source": [
    "#DHZ 1951\n",
    "data.groupby(\"mes\")"
   ]
  },
  {
   "cell_type": "code",
   "execution_count": 11,
   "id": "8291a614",
   "metadata": {},
   "outputs": [
    {
     "name": "stdout",
     "output_type": "stream",
     "text": [
      "A continuacion vemos el numero de entradas por mes \n",
      " segregadas en llamadas, sms y datos: \n",
      " \n",
      "\n"
     ]
    },
    {
     "data": {
      "text/plain": [
       "mes      item\n",
       "2014-11  call    107\n",
       "         data     29\n",
       "         sms      94\n",
       "2014-12  call     79\n",
       "         data     30\n",
       "         sms      48\n",
       "2015-01  call     88\n",
       "         data     31\n",
       "         sms      86\n",
       "2015-02  call     67\n",
       "         data     31\n",
       "         sms      39\n",
       "2015-03  call     47\n",
       "         data     29\n",
       "         sms      25\n",
       "Name: duracion, dtype: int64"
      ]
     },
     "execution_count": 11,
     "metadata": {},
     "output_type": "execute_result"
    }
   ],
   "source": [
    "#DHZ 1951\n",
    "print(\"A continuacion vemos el numero de entradas por mes \\n segregadas en llamadas, sms y datos: \\n \\n\")\n",
    "data.groupby([\"mes\",\"item\"])[\"duracion\"].count()"
   ]
  },
  {
   "cell_type": "code",
   "execution_count": 12,
   "id": "beb506b7",
   "metadata": {},
   "outputs": [
    {
     "name": "stdout",
     "output_type": "stream",
     "text": [
      "La duracion total de la llamadas realizadas a cada una de las operadoras es:  \n"
     ]
    },
    {
     "data": {
      "text/plain": [
       "red\n",
       "Meteor        7200.0\n",
       "Tesco        13828.0\n",
       "Three        36464.0\n",
       "Vodafone     14621.0\n",
       "landline     18433.0\n",
       "voicemail     1775.0\n",
       "Name: duracion, dtype: float64"
      ]
     },
     "execution_count": 12,
     "metadata": {},
     "output_type": "execute_result"
    }
   ],
   "source": [
    "#DHZ 1951\n",
    "print(\"La duracion total de la llamadas realizadas a cada una de las operadoras es:  \")\n",
    "data[data[\"item\"] == \"call\"].groupby(\"red\")[\"duracion\"].sum()"
   ]
  },
  {
   "cell_type": "code",
   "execution_count": 14,
   "id": "f7bcbfbe",
   "metadata": {},
   "outputs": [
    {
     "name": "stdout",
     "output_type": "stream",
     "text": [
      "¿Cuantas llamadas, sms y datos son enviados a cada operadora por mes?: \n"
     ]
    },
    {
     "data": {
      "text/plain": [
       "mes      tipo_red \n",
       "2014-11  data          29\n",
       "         landline       5\n",
       "         mobile       189\n",
       "         special        1\n",
       "         voicemail      6\n",
       "2014-12  data          30\n",
       "         landline       7\n",
       "         mobile       108\n",
       "         voicemail      8\n",
       "         world          4\n",
       "2015-01  data          31\n",
       "         landline      11\n",
       "         mobile       160\n",
       "         voicemail      3\n",
       "2015-02  data          31\n",
       "         landline       8\n",
       "         mobile        90\n",
       "         special        2\n",
       "         voicemail      6\n",
       "2015-03  data          29\n",
       "         landline      11\n",
       "         mobile        54\n",
       "         voicemail      4\n",
       "         world          3\n",
       "Name: fecha, dtype: int64"
      ]
     },
     "execution_count": 14,
     "metadata": {},
     "output_type": "execute_result"
    }
   ],
   "source": [
    "#DHZ 1951\n",
    "print (\"¿Cuantas llamadas, sms y datos son enviados a cada operadora por mes?: \")\n",
    "data.groupby([\"mes\", \"tipo_red\"])[\"fecha\"].count()"
   ]
  },
  {
   "cell_type": "code",
   "execution_count": null,
   "id": "4f5c2e6b",
   "metadata": {},
   "outputs": [],
   "source": []
  }
 ],
 "metadata": {
  "kernelspec": {
   "display_name": "Python 3",
   "language": "python",
   "name": "python3"
  },
  "language_info": {
   "codemirror_mode": {
    "name": "ipython",
    "version": 3
   },
   "file_extension": ".py",
   "mimetype": "text/x-python",
   "name": "python",
   "nbconvert_exporter": "python",
   "pygments_lexer": "ipython3",
   "version": "3.8.8"
  }
 },
 "nbformat": 4,
 "nbformat_minor": 5
}
