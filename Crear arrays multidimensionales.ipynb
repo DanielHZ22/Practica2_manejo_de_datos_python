{
 "cells": [
  {
   "cell_type": "code",
   "execution_count": 1,
   "id": "7e5363f9",
   "metadata": {},
   "outputs": [],
   "source": [
    "#DHZ 1951\n",
    "import numpy as np "
   ]
  },
  {
   "cell_type": "code",
   "execution_count": 3,
   "id": "f1a947c4",
   "metadata": {},
   "outputs": [],
   "source": [
    "arreglo = np.array([0,1,2,3,4,5])"
   ]
  },
  {
   "cell_type": "code",
   "execution_count": 4,
   "id": "93bd2877",
   "metadata": {},
   "outputs": [
    {
     "data": {
      "text/plain": [
       "(array([0, 1, 2, 3, 4, 5]), numpy.ndarray)"
      ]
     },
     "execution_count": 4,
     "metadata": {},
     "output_type": "execute_result"
    }
   ],
   "source": [
    "arreglo, type(arreglo)"
   ]
  },
  {
   "cell_type": "code",
   "execution_count": 5,
   "id": "23fb7086",
   "metadata": {},
   "outputs": [],
   "source": [
    "notas = [16,17,14,17,19,15]\n",
    "\n",
    "ar_notas = np.array(notas, dtype=float)"
   ]
  },
  {
   "cell_type": "code",
   "execution_count": 6,
   "id": "ed58df0b",
   "metadata": {},
   "outputs": [
    {
     "data": {
      "text/plain": [
       "(array([16., 17., 14., 17., 19., 15.]), numpy.float64)"
      ]
     },
     "execution_count": 6,
     "metadata": {},
     "output_type": "execute_result"
    }
   ],
   "source": [
    "ar_notas, type(ar_notas[0])"
   ]
  },
  {
   "cell_type": "code",
   "execution_count": 7,
   "id": "05fadd96",
   "metadata": {
    "scrolled": true
   },
   "outputs": [
    {
     "data": {
      "text/plain": [
       "array([[ 0,  1,  2,  3,  4,  5],\n",
       "       [16, 17, 14, 17, 19, 15]])"
      ]
     },
     "execution_count": 7,
     "metadata": {},
     "output_type": "execute_result"
    }
   ],
   "source": [
    "ar_notas_todas = np.array(([0,1,2,3,4,5], notas))\n",
    "ar_notas_todas"
   ]
  },
  {
   "cell_type": "code",
   "execution_count": 8,
   "id": "fa7e6598",
   "metadata": {},
   "outputs": [
    {
     "name": "stdout",
     "output_type": "stream",
     "text": [
      "2\n",
      "1\n"
     ]
    }
   ],
   "source": [
    "#DHZ 1951\n",
    "print(ar_notas_todas.ndim)\n",
    "print(ar_notas.ndim)"
   ]
  },
  {
   "cell_type": "code",
   "execution_count": 9,
   "id": "25a6084c",
   "metadata": {},
   "outputs": [
    {
     "name": "stdout",
     "output_type": "stream",
     "text": [
      "(2, 6)\n",
      "(6,)\n"
     ]
    }
   ],
   "source": [
    "#DHZ 1951\n",
    "print(ar_notas_todas.shape)\n",
    "print(ar_notas.shape)"
   ]
  },
  {
   "cell_type": "code",
   "execution_count": 10,
   "id": "a4757b17",
   "metadata": {},
   "outputs": [
    {
     "name": "stdout",
     "output_type": "stream",
     "text": [
      "[[0. 0. 0.]\n",
      " [0. 0. 0.]]\n"
     ]
    }
   ],
   "source": [
    "#DHZ 1951\n",
    "arr = np.zeros((2,3), dtype=float)\n",
    "print(arr)"
   ]
  },
  {
   "cell_type": "code",
   "execution_count": 11,
   "id": "3284f46f",
   "metadata": {},
   "outputs": [
    {
     "name": "stdout",
     "output_type": "stream",
     "text": [
      "[[1. 1. 1. 1.]\n",
      " [1. 1. 1. 1.]\n",
      " [1. 1. 1. 1.]]\n"
     ]
    }
   ],
   "source": [
    "#DHZ 1951 \n",
    "ar2 = np.ones((3,4), dtype=float)\n",
    "print(ar2)"
   ]
  },
  {
   "cell_type": "code",
   "execution_count": 12,
   "id": "b53c4610",
   "metadata": {},
   "outputs": [
    {
     "name": "stdout",
     "output_type": "stream",
     "text": [
      "[[1. 0. 0. 0.]\n",
      " [0. 1. 0. 0.]\n",
      " [0. 0. 1. 0.]\n",
      " [0. 0. 0. 1.]]\n"
     ]
    }
   ],
   "source": [
    "ar4 = np.identity((4), dtype=float)\n",
    "print(ar4)"
   ]
  },
  {
   "cell_type": "code",
   "execution_count": 13,
   "id": "eb73ecce",
   "metadata": {},
   "outputs": [
    {
     "name": "stdout",
     "output_type": "stream",
     "text": [
      "[1 2 3 4 5 6 7 8]\n"
     ]
    }
   ],
   "source": [
    "ar5 = np.arange(1,9)\n",
    "print(ar5)"
   ]
  },
  {
   "cell_type": "code",
   "execution_count": null,
   "id": "f63425dc",
   "metadata": {},
   "outputs": [],
   "source": []
  },
  {
   "cell_type": "code",
   "execution_count": null,
   "id": "e1c13406",
   "metadata": {},
   "outputs": [],
   "source": []
  }
 ],
 "metadata": {
  "kernelspec": {
   "display_name": "Python 3",
   "language": "python",
   "name": "python3"
  },
  "language_info": {
   "codemirror_mode": {
    "name": "ipython",
    "version": 3
   },
   "file_extension": ".py",
   "mimetype": "text/x-python",
   "name": "python",
   "nbconvert_exporter": "python",
   "pygments_lexer": "ipython3",
   "version": "3.8.8"
  }
 },
 "nbformat": 4,
 "nbformat_minor": 5
}
