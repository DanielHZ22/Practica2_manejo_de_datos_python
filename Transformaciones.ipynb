{
 "cells": [
  {
   "cell_type": "code",
   "execution_count": 1,
   "id": "08dfd6df",
   "metadata": {},
   "outputs": [
    {
     "data": {
      "text/plain": [
       "array([[72,  6, 30, 25],\n",
       "       [90, 95, 60, 41],\n",
       "       [67, 12, 41,  9]])"
      ]
     },
     "execution_count": 1,
     "metadata": {},
     "output_type": "execute_result"
    }
   ],
   "source": [
    "#DHZ 1951 \n",
    "import numpy as np\n",
    "arr_ent = np.random.randint(100, size=(3,4))\n",
    "arr_ent"
   ]
  },
  {
   "cell_type": "code",
   "execution_count": 2,
   "id": "fcb52947",
   "metadata": {},
   "outputs": [
    {
     "data": {
      "text/plain": [
       "array([[72.,  6., 30., 25.],\n",
       "       [90., 95., 60., 41.],\n",
       "       [67., 12., 41.,  9.]])"
      ]
     },
     "execution_count": 2,
     "metadata": {},
     "output_type": "execute_result"
    }
   ],
   "source": [
    "arr_ent.astype(float)"
   ]
  },
  {
   "cell_type": "code",
   "execution_count": 3,
   "id": "52e6831b",
   "metadata": {},
   "outputs": [
    {
     "data": {
      "text/plain": [
       "array([[72,  6, 30, 25],\n",
       "       [90, 95, 60, 41],\n",
       "       [67, 12, 41,  9]])"
      ]
     },
     "execution_count": 3,
     "metadata": {},
     "output_type": "execute_result"
    }
   ],
   "source": [
    "#DHZ 1951\n",
    "arr_ent"
   ]
  },
  {
   "cell_type": "code",
   "execution_count": 5,
   "id": "f4c54240",
   "metadata": {},
   "outputs": [
    {
     "data": {
      "text/plain": [
       "array([[ 6, 25, 30, 72],\n",
       "       [41, 60, 90, 95],\n",
       "       [ 9, 12, 41, 67]])"
      ]
     },
     "execution_count": 5,
     "metadata": {},
     "output_type": "execute_result"
    }
   ],
   "source": [
    "arr_ent.sort()\n",
    "arr_ent"
   ]
  },
  {
   "cell_type": "code",
   "execution_count": 6,
   "id": "224e0863",
   "metadata": {},
   "outputs": [
    {
     "data": {
      "text/plain": [
       "array([[ 6, 12, 30, 67],\n",
       "       [ 9, 25, 41, 72],\n",
       "       [41, 60, 90, 95]])"
      ]
     },
     "execution_count": 6,
     "metadata": {},
     "output_type": "execute_result"
    }
   ],
   "source": [
    "arr_ent.sort(axis=0)\n",
    "arr_ent"
   ]
  },
  {
   "cell_type": "code",
   "execution_count": 7,
   "id": "cb3e3686",
   "metadata": {},
   "outputs": [
    {
     "data": {
      "text/plain": [
       "array([[ 6, 12, 30, 67],\n",
       "       [ 9, 25, 41, 72],\n",
       "       [41, 60, 90, 95]])"
      ]
     },
     "execution_count": 7,
     "metadata": {},
     "output_type": "execute_result"
    }
   ],
   "source": [
    "#DHZ 1951\n",
    "arr_ent"
   ]
  },
  {
   "cell_type": "code",
   "execution_count": 12,
   "id": "e6320da9",
   "metadata": {},
   "outputs": [
    {
     "data": {
      "text/plain": [
       "array([[ 6, 12],\n",
       "       [30, 67],\n",
       "       [ 9, 25],\n",
       "       [41, 72],\n",
       "       [41, 60],\n",
       "       [90, 95]])"
      ]
     },
     "execution_count": 12,
     "metadata": {},
     "output_type": "execute_result"
    }
   ],
   "source": [
    "arr_ent = arr_ent.reshape(6,2)\n",
    "arr_ent"
   ]
  },
  {
   "cell_type": "code",
   "execution_count": 14,
   "id": "127889e0",
   "metadata": {},
   "outputs": [
    {
     "name": "stdout",
     "output_type": "stream",
     "text": [
      "[[ 6 12]\n",
      " [30 67]\n",
      " [ 9 25]\n",
      " [41 72]\n",
      " [41 60]\n",
      " [90 95]]\n",
      "*************\n",
      "[ 6 12 30 67  9 25 41 72 41 60 90 95]\n"
     ]
    }
   ],
   "source": [
    "#DHZ 1951\n",
    "plano_arr = arr_ent.flatten()\n",
    "print(arr_ent)\n",
    "print(\"*************\")\n",
    "print(plano_arr)"
   ]
  },
  {
   "cell_type": "code",
   "execution_count": 15,
   "id": "10d76c5a",
   "metadata": {},
   "outputs": [
    {
     "data": {
      "text/plain": [
       "[[6, 12], [30, 67], [9, 25], [41, 72], [41, 60], [90, 95]]"
      ]
     },
     "execution_count": 15,
     "metadata": {},
     "output_type": "execute_result"
    }
   ],
   "source": [
    "#DHZ 1951\n",
    "lista_arr = arr_ent.tolist()\n",
    "lista_arr"
   ]
  },
  {
   "cell_type": "code",
   "execution_count": null,
   "id": "adc9bc3a",
   "metadata": {},
   "outputs": [],
   "source": []
  }
 ],
 "metadata": {
  "kernelspec": {
   "display_name": "Python 3",
   "language": "python",
   "name": "python3"
  },
  "language_info": {
   "codemirror_mode": {
    "name": "ipython",
    "version": 3
   },
   "file_extension": ".py",
   "mimetype": "text/x-python",
   "name": "python",
   "nbconvert_exporter": "python",
   "pygments_lexer": "ipython3",
   "version": "3.8.8"
  }
 },
 "nbformat": 4,
 "nbformat_minor": 5
}
